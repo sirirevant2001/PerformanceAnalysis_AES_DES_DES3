{
  "nbformat": 4,
  "nbformat_minor": 0,
  "metadata": {
    "colab": {
      "provenance": []
    },
    "kernelspec": {
      "name": "python3",
      "display_name": "Python 3"
    },
    "language_info": {
      "name": "python"
    }
  },
  "cells": [
    {
      "cell_type": "code",
      "execution_count": null,
      "metadata": {
        "colab": {
          "base_uri": "https://localhost:8080/"
        },
        "id": "REeOwLrdlVYj",
        "outputId": "60a30e7e-b7d9-467a-8a54-a47cdd6a7ff0"
      },
      "outputs": [
        {
          "output_type": "stream",
          "name": "stdout",
          "text": [
            "Looking in indexes: https://pypi.org/simple, https://us-python.pkg.dev/colab-wheels/public/simple/\n",
            "Collecting pycrypto\n",
            "  Downloading pycrypto-2.6.1.tar.gz (446 kB)\n",
            "\u001b[K     |████████████████████████████████| 446 kB 7.4 MB/s \n",
            "\u001b[?25hBuilding wheels for collected packages: pycrypto\n",
            "  Building wheel for pycrypto (setup.py) ... \u001b[?25l\u001b[?25hdone\n",
            "  Created wheel for pycrypto: filename=pycrypto-2.6.1-cp37-cp37m-linux_x86_64.whl size=499932 sha256=014dcce5fc13c96f5b3ad47c024714879fd9c50bc0aeeb27b0843d861ae93ccd\n",
            "  Stored in directory: /root/.cache/pip/wheels/cf/85/ba/bbd7c96add459de7598fb424e5ff2309baf2095c844ac0f191\n",
            "Successfully built pycrypto\n",
            "Installing collected packages: pycrypto\n",
            "Successfully installed pycrypto-2.6.1\n"
          ]
        }
      ],
      "source": [
        "pip install pycrypto"
      ]
    },
    {
      "cell_type": "code",
      "source": [
        "pip install base32hex  "
      ],
      "metadata": {
        "colab": {
          "base_uri": "https://localhost:8080/"
        },
        "id": "ggfSe0e8NDPk",
        "outputId": "8df65ccf-a851-4e77-9dd3-94b0bc34544e"
      },
      "execution_count": null,
      "outputs": [
        {
          "output_type": "stream",
          "name": "stdout",
          "text": [
            "Looking in indexes: https://pypi.org/simple, https://us-python.pkg.dev/colab-wheels/public/simple/\n",
            "Collecting base32hex\n",
            "  Downloading base32hex-1.0.2.tar.gz (2.1 kB)\n",
            "Building wheels for collected packages: base32hex\n",
            "  Building wheel for base32hex (setup.py) ... \u001b[?25l\u001b[?25hdone\n",
            "  Created wheel for base32hex: filename=base32hex-1.0.2-py3-none-any.whl size=2270 sha256=a353a220d770f899cc405ef7192fbe30e360c1c069d6106e798735dd79a5fe11\n",
            "  Stored in directory: /root/.cache/pip/wheels/6a/40/74/a70cdb7002e00447249a355fcc114543c9c5f5e0475f13a1b8\n",
            "Successfully built base32hex\n",
            "Installing collected packages: base32hex\n",
            "Successfully installed base32hex-1.0.2\n"
          ]
        }
      ]
    },
    {
      "cell_type": "code",
      "source": [
        "import base32hex\n",
        "import hashlib\n",
        "from Crypto.Cipher import DES\n",
        "import psutil\n",
        "import time\n",
        "\n",
        "start = time.time()\n",
        "\n",
        "def DES():\n",
        "  from Crypto.Cipher import DES\n",
        "\n",
        "  def pad(text):\n",
        "    n=len(text)%8\n",
        "    return text+(b' '*n)\n",
        "\n",
        "  key=b'hello123'\n",
        "  text1=b'I am keerthi    '\n",
        "\n",
        "  des=DES.new(key, DES.MODE_ECB)\n",
        "\n",
        "  padded_text=pad(text1)\n",
        "  encrypted_text=des.encrypt(padded_text)\n",
        "  print(f\"Encrypted Text: {encrypted_text}\")\n",
        "  print(f\"Decrypted Text: {des.decrypt(encrypted_text)}\")\n",
        "\n",
        "DES()\n",
        "\n",
        "\n",
        "end = time.time()\n",
        "print(\"\\n\")\n",
        "print(f\"Runtime for DES encryption and decryption: {end - start}\")\n",
        "print(f\"CPU Usage: {psutil.cpu_percent()}\")\n",
        "print(f\"RAM Usage: {psutil.virtual_memory().percent}\")\n"
      ],
      "metadata": {
        "colab": {
          "base_uri": "https://localhost:8080/"
        },
        "id": "shyJlMWgNKE9",
        "outputId": "c01970b5-ecf4-4737-c222-467d353862c2"
      },
      "execution_count": null,
      "outputs": [
        {
          "output_type": "stream",
          "name": "stdout",
          "text": [
            "Encrypted Text: b'\\x1eD\\xd7\\xcfx\\xf3f\\xd2\\xc8)\\xfbU#\\xb3$\\xf3'\n",
            "Decrypted Text: b'I am keerthi    '\n",
            "\n",
            "\n",
            "Runtime for DES encryption and decryption: 0.0056018829345703125\n",
            "CPU Usage: 5.5\n",
            "RAM Usage: 9.3\n"
          ]
        }
      ]
    },
    {
      "cell_type": "code",
      "source": [
        "start1 = time.time()\n",
        "\n",
        "def AES():\n",
        "  from Crypto.Cipher import AES\n",
        "  obj = AES.new('This is a key123', AES.MODE_CBC, 'This is an IV456')\n",
        "  message = \"I am keerthi    \"\n",
        "  ciphertext = obj.encrypt(message)\n",
        "  print(ciphertext)\n",
        "  obj2 = AES.new('This is a key123', AES.MODE_CBC, 'This is an IV456')\n",
        "  print(obj2.decrypt(ciphertext))\n",
        "\n",
        "AES()\n",
        "\n",
        "\n",
        "end1 = time.time()\n",
        "print(\"\\n\")\n",
        "print(f\"Runtime for AES encryption and decryption: {end1 - start1}\")\n",
        "print(f\"CPU Usage: {psutil.cpu_percent()}\")\n",
        "print(f\"RAM Usage: {psutil.virtual_memory().percent}\")"
      ],
      "metadata": {
        "colab": {
          "base_uri": "https://localhost:8080/"
        },
        "id": "6QpDKj-uPujT",
        "outputId": "92139926-09f2-4523-e49c-0eadeabc5b3f"
      },
      "execution_count": null,
      "outputs": [
        {
          "output_type": "stream",
          "name": "stdout",
          "text": [
            "b'\\x92\\xfc\\xfb\\xe3\\xbb\\x04\\x10\\xb7\\xce\\xb3.e<\\xc8T\\x8f'\n",
            "b'I am keerthi    '\n",
            "\n",
            "\n",
            "Runtime for AES encryption and decryption: 0.0039560794830322266\n",
            "CPU Usage: 3.9\n",
            "RAM Usage: 9.3\n"
          ]
        }
      ]
    },
    {
      "cell_type": "code",
      "source": [
        "start2 = time.time()\n",
        "\n",
        "from Crypto.Cipher import DES3\n",
        "from Crypto import Random\n",
        "key = 'Sixteen byte key'\n",
        "iv = Random.new().read(DES3.block_size) #DES3.block_size==8\n",
        "cipher_encrypt = DES3.new(key, DES3.MODE_OFB, iv)\n",
        "plaintext = 'I am keerthi    ' #padded with spaces so than len(plaintext) is multiple of 8\n",
        "msg1=encrypted_text = cipher_encrypt.encrypt(plaintext)\n",
        "\n",
        "cipher_decrypt = DES3.new(key, DES3.MODE_OFB, iv) #you can't reuse an object for encrypting or decrypting other data with the same key.\n",
        "msg2=cipher_decrypt.decrypt(encrypted_text)\n",
        "print(msg1)\n",
        "print(msg2)\n",
        "\n",
        "\n",
        "end2 = time.time()\n",
        "print(\"\\n\")\n",
        "print(f\"Runtime for 3DES encryption and decryption: {end2 - start2}\")\n",
        "print(f\"CPU Usage: {psutil.cpu_percent()}\")\n",
        "print(f\"RAM Usage: {psutil.virtual_memory().percent}\")"
      ],
      "metadata": {
        "colab": {
          "base_uri": "https://localhost:8080/"
        },
        "id": "Y1ptfkV5YOkS",
        "outputId": "5e2d0ff4-27be-4822-837d-70398406b62b"
      },
      "execution_count": null,
      "outputs": [
        {
          "output_type": "stream",
          "name": "stdout",
          "text": [
            "b':J\\xa4\\x19\\x16\\xe4\\x99\\xd7\\x06\\xd5\\x1e^&v1s'\n",
            "b'I am keerthi    '\n",
            "\n",
            "\n",
            "Runtime for 3DES encryption and decryption: 0.0042722225189208984\n",
            "CPU Usage: 4.4\n",
            "RAM Usage: 9.3\n"
          ]
        }
      ]
    },
    {
      "cell_type": "code",
      "source": [
        "import matplotlib.pyplot as plt\n",
        "plt.xlabel('Encryption Standards')\n",
        "plt.ylabel('Time For Encryption & Decryption')\n",
        "plt.title('Performance Analysis: Time')\n",
        "Encryption_Standard = ['DES', 'AES', '3DES']\n",
        "Time_Taken = [end-start, end1-start1, end2-start2]\n",
        "plt.bar(Encryption_Standard,Time_Taken)\n",
        "plt.show()"
      ],
      "metadata": {
        "colab": {
          "base_uri": "https://localhost:8080/",
          "height": 295
        },
        "id": "TWTR2CkAiUM7",
        "outputId": "da5c7c7a-a6bd-413a-b183-ecbf23f343e0"
      },
      "execution_count": null,
      "outputs": [
        {
          "output_type": "display_data",
          "data": {
            "text/plain": [
              "<Figure size 432x288 with 1 Axes>"
            ],
            "image/png": "[encoded data removed]"
          },
          "metadata": {
            "needs_background": "light"
          }
        }
      ]
    },
    {
      "cell_type": "markdown",
      "source": [
        "AVALANCHE EFFECT - GRAPHICAL ANALYSIS"
      ],
      "metadata": {
        "id": "EvgysPm94o4i"
      }
    },
    {
      "cell_type": "code",
      "source": [
        "import random\n",
        "import numpy as np\n",
        "import matplotlib.pyplot as plt\n",
        "import statistics\n",
        "import itertools\n",
        "import time\n",
        "from Crypto.Cipher import DES\n",
        "from Crypto.Cipher import DES3\n",
        "from Crypto.Cipher import AES\n",
        "\n",
        "sysrandom = random.SystemRandom()\n",
        "\n",
        "#Initialize a randomArray to get 10000 Key\n",
        "randKeyArray = []\n",
        "\n",
        "#Calculate Hamming distance\n",
        "def HammingDistance(bits0,bits1):\n",
        "    #print('bits0: {:016x}'.format(bits0))\n",
        "    #print('bits1: {:016x}'.format(bits1))\n",
        "    return bin(bits0 ^ bits1).count(\"1\")\n",
        "\n",
        "print(\"DES Avalanche Effect\")\n",
        "\n",
        "def randomBitFlip(bits0):\n",
        "    #print('bits0: {:016x}'.format(bits0))\n",
        "    bitnum = random.randint(0,63)\n",
        "    bits1 = bits0 ^ (1 << bitnum)\n",
        "    randKeyArray.append(bits1)\n",
        "\n",
        "randKeyArray.append(sysrandom.getrandbits(64))\n",
        "\n",
        "\n",
        "\n",
        "#Create 10000 key which differ only by one bit\n",
        "for i in range(0,10000):\n",
        "    randomBitFlip(randKeyArray[i])\n",
        "\n",
        "hamming_d = []\n",
        "\n",
        "plaintext = '12345678'\n",
        "\n",
        "for i in range(0,10000):\n",
        "    \n",
        "    des1 = DES.new(randKeyArray[i].to_bytes(8,'little'), DES.MODE_ECB)\n",
        "    des2 = DES.new(randKeyArray[i+1].to_bytes(8,'little'), DES.MODE_ECB)\n",
        "   \n",
        "    ciphertext1 = des1.encrypt(plaintext)\n",
        "    ciphertext2 = des2.encrypt(plaintext)\n",
        "    #print(ciphertext1);\n",
        "    #print(ciphertext2);\n",
        "    #type(ciphertext1)\n",
        "    d = HammingDistance(int.from_bytes(ciphertext1,'little'),int.from_bytes(ciphertext2,'little'))    \n",
        "    hamming_d.append(d)\n",
        "\n",
        "print(\"--DES--\")\n",
        "print(\"Maximum Hamming Distance in DES: \", max(hamming_d))\n",
        "print(\"Maximum Hamming Distance in DES: \", min(hamming_d))\n",
        "print(\"Mean DES: \",statistics.mean(hamming_d))\n",
        "print(\"Standard Deviation DES: \",statistics.stdev(hamming_d))\n",
        "\n",
        "#Plot an histogram to show the frequrncy of the bits change\n",
        "\n",
        "np_hamming_d = np.array(hamming_d)\n",
        "\n",
        "uniqueVal_des, occurCount_des = np.unique(np_hamming_d, return_counts=True)\n",
        "\n",
        "\n",
        "x = uniqueVal_des\n",
        "y = occurCount_des\n",
        "colors = itertools.cycle(['b','r'])\n",
        "plt.ylabel('Frequency')\n",
        "plt.xlabel('No of Bits Flipped in DES')\n",
        "for i in range(len(y)):\n",
        "    plt.bar(x[i], y[i], color=next(colors))\n",
        "plt.show()\n",
        "\n",
        "print(\"\\n\") \n",
        "print(\"3DES Avalanche Effect\")\n",
        "\n",
        "def randomBitFlip_3DES(bits0):\n",
        "    #print('bits0: {:016x}'.format(bits0))\n",
        "    bitnum = sysrandom.randint(0,127)\n",
        "    bits1 = bits0 ^ (1 << bitnum)\n",
        "    randKeyArray_3DES.append(bits1)\n",
        "\n",
        "randKeyArray_3DES = []\n",
        "\n",
        "randKeyArray_3DES.append(sysrandom.getrandbits(128))\n",
        "\n",
        "\n",
        "for i in range(0,10000):\n",
        "    randomBitFlip_3DES(randKeyArray_3DES[i])\n",
        "\n",
        "\n",
        "hamming_d_t = []\n",
        "\n",
        "for i in range(0,10000):\n",
        "    tdes1 = DES3.new(randKeyArray_3DES[i].to_bytes(16,'little'),DES.MODE_ECB)\n",
        "    tdes2 = DES3.new(randKeyArray_3DES[i+1].to_bytes(16,'little'),DES.MODE_ECB)\n",
        "    \n",
        "    tciphertext1 = tdes1.encrypt(plaintext)\n",
        "    tciphertext2 = tdes2.encrypt(plaintext)\n",
        "    \n",
        "    d = HammingDistance(int.from_bytes(tciphertext1,'little'),int.from_bytes(tciphertext2,'little'))    \n",
        "    hamming_d_t.append(d)    \n",
        "\n",
        "print(\"--3DES--\")\n",
        "print(\"Maximum Hamming Distance in 3DES: \",max(hamming_d_t))\n",
        "print(\"Minimum Hamming Distance in 3DES: \",min(hamming_d_t))\n",
        "print(\"Mean 3DES: \",statistics.mean(hamming_d_t))\n",
        "print(\"Standard Deviation 3DES: \",statistics.stdev(hamming_d_t))\n",
        "\n",
        "np_hamming_d_t = np.array(hamming_d_t)\n",
        "\n",
        "uniqueVal_3des, occurCount_3des = np.unique(np_hamming_d_t, return_counts=True)\n",
        "\n",
        "\n",
        "x = uniqueVal_3des\n",
        "y = occurCount_3des\n",
        "colors = itertools.cycle(['b','r'])\n",
        "plt.ylabel('Frequency')\n",
        "plt.xlabel('No of Bits Flipped in DES3')\n",
        "for i in range(len(y)):\n",
        "    plt.bar(x[i], y[i], color=next(colors))\n",
        "plt.show()\n",
        "\n",
        "print(\"\\n\") \n",
        "print(\"AES Avalanche Effect\")\n",
        "\n",
        "def randomBitFlip_3DES(bits0):\n",
        "    #print('bits0: {:016x}'.format(bits0))\n",
        "    bitnum = sysrandom.randint(0,127)\n",
        "    bits1 = bits0 ^ (1 << bitnum)\n",
        "    randKeyArray_3DES.append(bits1)\n",
        "\n",
        "randKeyArray_3DES = []\n",
        "\n",
        "randKeyArray_3DES.append(sysrandom.getrandbits(128))\n",
        "\n",
        "\n",
        "for i in range(0,10000):\n",
        "    randomBitFlip_3DES(randKeyArray_3DES[i])\n",
        "\n",
        "\n",
        "hamming_A_t = []\n",
        "plaintextA=\"12345678910111213141516171819202\"\n",
        "\n",
        "for i in range(0,10000):\n",
        "    aes1 = AES.new(randKeyArray_3DES[i].to_bytes(16,'little'),AES.MODE_ECB)\n",
        "    aes2 = AES.new(randKeyArray_3DES[i+1].to_bytes(16,'little'),AES.MODE_ECB)\n",
        "\n",
        "    aciphertext1 = aes1.encrypt(plaintextA)\n",
        "    aciphertext2 = aes2.encrypt(plaintextA)\n",
        "    \n",
        "    d = HammingDistance(int.from_bytes(aciphertext1,'little'),int.from_bytes(aciphertext2,'little'))    \n",
        "    hamming_A_t.append(d)    \n",
        "\n",
        "print(\"--AES--\")\n",
        "print(\"Maximum Hamming Distance in AES: \",max(hamming_A_t))\n",
        "print(\"Minimum Hamming Distance in AES: \",min(hamming_A_t))\n",
        "print(\"Mean AES: \",statistics.mean(hamming_A_t))\n",
        "print(\"Standard Deviation AES: \",statistics.stdev(hamming_A_t))\n",
        "\n",
        "np_hamming_A_t = np.array(hamming_A_t)\n",
        "\n",
        "uniqueVal_aes, occurCount_aes = np.unique(np_hamming_A_t, return_counts=True)\n",
        "\n",
        "\n",
        "x = uniqueVal_aes\n",
        "y = occurCount_aes\n",
        "colors = itertools.cycle(['b','r'])\n",
        "plt.ylabel('Frequency')\n",
        "plt.xlabel('No of Bits Flipped in AES')\n",
        "for i in range(len(y)):\n",
        "    plt.bar(x[i], y[i], color=next(colors))\n",
        "plt.show()\n",
        "\n",
        "\n",
        "#Comparison in Avalanche effect between 3DES and DES and AES\n",
        "#Plotting both graph simultaneously\n",
        "#des_and_3des_and_aes = np.column_stack((np_hamming_d,np_hamming_d_t,np_hamming_A_t))\n",
        "\n",
        "#colors = ['red', 'blue','green']\n",
        "#labels = ['DES','3DES','AES']\n",
        "\n",
        "#Lbins = [31,34]\n",
        "\n",
        "#print(\"\\n\")\n",
        "#plt.hist(des_and_3des_and_aes, Lbins,histtype='bar',stacked=False,label = labels,fill=True,alpha=0.8, # opacity of the barsedgecolor = \"k\")\n",
        "#plt.xlabel('Bits Flipped With 1 bit change in key')\n",
        "#plt.ylabel('Frequency')   \n",
        "#plt.legend()\n",
        "#plt.show()\n"
      ],
      "metadata": {
        "id": "wgstOk-Ul9wN",
        "colab": {
          "base_uri": "https://localhost:8080/",
          "height": 1000
        },
        "outputId": "53578da8-b940-40ab-b3ce-80b6ef507db3"
      },
      "execution_count": null,
      "outputs": [
        {
          "output_type": "stream",
          "name": "stdout",
          "text": [
            "DES Avalanche Effect\n",
            "--DES--\n",
            "Maximum Hamming Distance in DES:  47\n",
            "Maximum Hamming Distance in DES:  0\n",
            "Mean DES:  27.8482\n",
            "Standard Deviation DES:  11.335749056884952\n"
          ]
        },
        {
          "output_type": "display_data",
          "data": {
            "text/plain": [
              "<Figure size 432x288 with 1 Axes>"
            ],
            "image/png": "[encoded data removed]"
          },
          "metadata": {
            "needs_background": "light"
          }
        },
        {
          "output_type": "stream",
          "name": "stdout",
          "text": [
            "\n",
            "\n",
            "3DES Avalanche Effect\n",
            "--3DES--\n",
            "Maximum Hamming Distance in 3DES:  48\n",
            "Minimum Hamming Distance in 3DES:  0\n",
            "Mean 3DES:  27.9247\n",
            "Standard Deviation 3DES:  11.393279185162589\n"
          ]
        },
        {
          "output_type": "display_data",
          "data": {
            "text/plain": [
              "<Figure size 432x288 with 1 Axes>"
            ],
            "image/png": "[encoded data removed]"
          },
          "metadata": {
            "needs_background": "light"
          }
        },
        {
          "output_type": "stream",
          "name": "stdout",
          "text": [
            "\n",
            "\n",
            "AES Avalanche Effect\n",
            "--AES--\n",
            "Maximum Hamming Distance in AES:  156\n",
            "Minimum Hamming Distance in AES:  95\n",
            "Mean AES:  127.9918\n",
            "Standard Deviation AES:  7.906452046170636\n"
          ]
        },
        {
          "output_type": "display_data",
          "data": {
            "text/plain": [
              "<Figure size 432x288 with 1 Axes>"
            ],
            "image/png": "[encoded data removed]"
          },
          "metadata": {
            "needs_background": "light"
          }
        }
      ]
    },
    {
      "cell_type": "code",
      "source": [
        "a = 546313 # first_cipher\n",
        "b = 37385 # second_cipher after chanage one bit\n",
        "# print bitwise XOR operation\n",
        "a_xor_b = a ^ b\n",
        "print(\"a ^ b =\", a_xor_b)\n",
        "# Base 2(binary)\n",
        "bin_a_xor_b = bin(a_xor_b)\n",
        "print(\"the result in decimal =\", bin_a_xor_b)\n",
        "# next steps to count 1s in binary number\n",
        "one_count = 0\n",
        "for i in bin_a_xor_b:\n",
        "  if(i == \"1\"):\n",
        "    one_count+=1\n",
        "    print (\"the 1s numbers is=\", one_count)\n",
        "  # next steps to calculate equation of avalanche effect\n",
        "  len_a = len(bin(a))\n",
        "  len_b = len(bin(b))\n",
        "  # if to ensure divide by the longest binary string\n",
        "  if(len_a) >= (len_b):\n",
        "    AVA = (one_count/ len (bin(a))) * 100\n",
        "  else:\n",
        "    AVA = (one_count/ len (bin(b))) * 100\n",
        "    print (\"avalanche effect =\", AVA, \"%\")"
      ],
      "metadata": {
        "id": "O24hxl7x4rc7",
        "colab": {
          "base_uri": "https://localhost:8080/"
        },
        "outputId": "c4b87d37-0338-4dab-f85e-be404d1f76d4"
      },
      "execution_count": null,
      "outputs": [
        {
          "output_type": "stream",
          "name": "stdout",
          "text": [
            "a ^ b = 574464\n",
            "the result in decimal = 0b10001100010000000000\n",
            "the 1s numbers is= 1\n",
            "the 1s numbers is= 2\n",
            "the 1s numbers is= 3\n",
            "the 1s numbers is= 4\n"
          ]
        }
      ]
    }
  ]
}